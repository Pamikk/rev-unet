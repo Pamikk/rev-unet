{
 "metadata": {
  "language_info": {
   "codemirror_mode": {
    "name": "ipython",
    "version": 3
   },
   "file_extension": ".py",
   "mimetype": "text/x-python",
   "name": "python",
   "nbconvert_exporter": "python",
   "pygments_lexer": "ipython3",
   "version": "3.7.9-final"
  },
  "orig_nbformat": 2,
  "kernelspec": {
   "name": "python3",
   "display_name": "Python 3",
   "language": "python"
  }
 },
 "nbformat": 4,
 "nbformat_minor": 2,
 "cells": [
  {
   "cell_type": "code",
   "execution_count": null,
   "metadata": {},
   "outputs": [],
   "source": [
    "import cv2\n",
    "import numpy as np   \n",
    "import matplotlib.pyplot as plt    \n",
    "import nibabel as nib\n",
    "from dataProcessing import Mydataset\n",
    "from config import Config"
   ]
  },
  {
   "cell_type": "code",
   "execution_count": null,
   "metadata": {},
   "outputs": [],
   "source": [
    "def show_slices(slices):\n",
    "    \"\"\" Function to display row of image slices \"\"\"\n",
    "    fig, axes = plt.subplots(1, len(slices))\n",
    "    for i, slice in enumerate(slices):\n",
    "        axes[i].imshow(slice.T, cmap=\"gray\", origin=\"lower\")"
   ]
  },
  {
   "cell_type": "code",
   "execution_count": null,
   "metadata": {},
   "outputs": [],
   "source": [
    "img = nib.load('../dataset/Task04_Hippocampus/Task04_Hippocampus/imagesTr/hippocampus_003.nii.gz')\n",
    "mask = nib.load('../dataset/Task04_Hippocampus/Task04_Hippocampus/labelsTr/hippocampus_003.nii.gz')\n",
    "data = img.get_fdata()\n",
    "mask = mask.get_fdata()\n",
    "print(np.unique(mask))\n",
    "h,w,d = data.shape\n",
    "slices = [data[h//2,:,:],data[:,w//2,:],data[:,:,d//2]]\n",
    "slices_mask = [mask[h//2,:,:],mask[:,w//2,:],mask[:,:,d//2]]\n",
    "show_slices(slices)\n",
    "show_slices(slices_mask)\n"
   ]
  },
  {
   "cell_type": "code",
   "execution_count": null,
   "metadata": {},
   "outputs": [],
   "source": [
    "cfg = Config(mode='train')\n",
    "dset = Mydataset(cfg,mode='train')\n",
    "\n"
   ]
  },
  {
   "cell_type": "code",
   "execution_count": null,
   "metadata": {},
   "outputs": [],
   "source": [
    "data_,mask_,augs = dset.random_aug_3d(data,mask)\n",
    "data_ = data_.squeeze()\n",
    "mask_ = mask_.squeeze()"
   ]
  },
  {
   "cell_type": "code",
   "execution_count": null,
   "metadata": {},
   "outputs": [],
   "source": [
    "slices = [data_[h//2,:,:],data_[:,w//2,:],data_[:,:,d//2]]\n",
    "slices_mask = [mask_[h//2,:,:],mask_[:,w//2,:],mask_[:,:,d//2]]\n",
    "print(augs)\n",
    "show_slices(slices)\n",
    "show_slices(slices_mask)"
   ]
  },
  {
   "cell_type": "code",
   "execution_count": null,
   "metadata": {},
   "outputs": [],
   "source": []
  }
 ]
}