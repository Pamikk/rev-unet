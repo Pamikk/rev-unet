{
 "metadata": {
  "language_info": {
   "codemirror_mode": {
    "name": "ipython",
    "version": 3
   },
   "file_extension": ".py",
   "mimetype": "text/x-python",
   "name": "python",
   "nbconvert_exporter": "python",
   "pygments_lexer": "ipython3",
   "version": "3.7.3-final"
  },
  "orig_nbformat": 2,
  "kernelspec": {
   "name": "python_defaultSpec_1599762732771",
   "display_name": "Python 3.7.3 64-bit ('Vega0': virtualenv)"
  }
 },
 "nbformat": 4,
 "nbformat_minor": 2,
 "cells": [
  {
   "cell_type": "code",
   "execution_count": null,
   "metadata": {},
   "outputs": [],
   "source": [
    "import cv2\n",
    "import numpy as np   \n",
    "import matplotlib.pyplot as plt\n",
    "from config import cal_anchors     "
   ]
  },
  {
   "cell_type": "code",
   "execution_count": null,
   "metadata": {},
   "outputs": [],
   "source": [
    "def draw_bboxes(img,bboxes,color,th=1):\n",
    "    img_ = img.copy()\n",
    "    for bbox in bboxes:\n",
    "        x,y,w,h = bbox\n",
    "        pt1 = (int(x-w/2),int(y-h/2))\n",
    "        pt2 = (int(x+w/2),int(y+h/2))\n",
    "        img_ =cv2.rectangle(img_,pt1,pt2,color,thickness = th)\n",
    "    return img_\n"
   ]
  },
  {
   "cell_type": "code",
   "execution_count": null,
   "metadata": {},
   "outputs": [],
   "source": [
    "def flip(src,labels):\n",
    "    w = src.shape[1]\n",
    "    dst = cv2.flip(src,1)\n",
    "    labels[:,1] = w-1-labels[:,1]\n",
    "    return dst,labels\n",
    "def pad_to_square(img):\n",
    "        h,w,_= img.shape\n",
    "        ts = max(h,w)\n",
    "        diff1 = abs(h-ts)\n",
    "        diff2 = abs(w-ts)\n",
    "        pad = (diff1//2,diff2//2,diff1-diff1//2,diff2-diff2//2)\n",
    "        img = cv2.copyMakeBorder(img,pad[0],pad[2],pad[1],pad[3],cv2.BORDER_CONSTANT,0)\n",
    "        return img,(pad[0],pad[1])\n",
    "\n",
    "\n",
    "\n"
   ]
  },
  {
   "cell_type": "code",
   "execution_count": null,
   "metadata": {
    "tags": []
   },
   "outputs": [],
   "source": [
    "img = np.zeros([128,96,3])\n",
    "labels = np.array([[0,20,30,15,20],[0,64,32,10,15]])\n",
    "print(labels.shape)\n",
    "img = draw_bboxes(img,labels[:,1:],(255,0,0),-1)\n",
    "plt.figure(figsize=(3,3))\n",
    "plt.imshow(img)\n",
    "img_,pad = pad_to_square(img)\n",
    "labels[:,1]+=pad[1]\n",
    "labels[:,2]+=pad[0]\n",
    "plt.figure(figsize=(3,3))\n",
    "img_ = draw_bboxes(img_,labels[:,1:],(255,255,0),1)\n",
    "plt.imshow(img_)\n",
    "\n",
    "\n"
   ]
  },
  {
   "cell_type": "code",
   "execution_count": null,
   "metadata": {
    "tags": []
   },
   "outputs": [],
   "source": [
    "centers = {}\n",
    "ious = []\n",
    "for i in range(4,16):\n",
    "    centers[i],km = cal_anchors(1,num=i)\n",
    "    ious.append(km.cal_all_dist())\n",
    "    print(i,centers[i])\n"
   ]
  },
  {
   "cell_type": "code",
   "execution_count": null,
   "metadata": {},
   "outputs": [],
   "source": [
    "anchors,km = cal_anchors(size=416,num=9)\n",
    "print(anchors)"
   ]
  },
  {
   "cell_type": "code",
   "execution_count": null,
   "metadata": {
    "tags": []
   },
   "outputs": [],
   "source": [
    "print(ious)"
   ]
  },
  {
   "cell_type": "code",
   "execution_count": null,
   "metadata": {},
   "outputs": [],
   "source": [
    "#calculating clusters ratio and scale respectively "
   ]
  }
 ]
}